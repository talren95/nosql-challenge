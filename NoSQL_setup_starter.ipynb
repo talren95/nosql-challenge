{
 "cells": [
  {
   "cell_type": "markdown",
   "id": "9a57c4c6",
   "metadata": {},
   "source": [
    "# Eat Safe, Love"
   ]
  },
  {
   "cell_type": "markdown",
   "id": "064ef857",
   "metadata": {},
   "source": [
    "## Part 1: Database and Jupyter Notebook Set Up"
   ]
  },
  {
   "cell_type": "markdown",
   "id": "664e3c1f",
   "metadata": {},
   "source": [
    "Import the data provided in the `establishments.json` file from your Terminal. Name the database `uk_food` and the collection `establishments`.\n",
    "\n",
    "Within this markdown cell, copy the line of text you used to import the data from your Terminal. This way, future analysts will be able to repeat your process.\n",
    "\n",
    "e.g.: Import the dataset with `YOUR IMPORT TEXT HERE`"
   ]
  },
  {
   "cell_type": "code",
   "execution_count": 1,
   "id": "3ecdd008",
   "metadata": {},
   "outputs": [],
   "source": [
    "# Import dependencies\n",
    "from pymongo import MongoClient\n",
    "from pprint import pprint"
   ]
  },
  {
   "cell_type": "code",
   "execution_count": 2,
   "id": "59390c4a",
   "metadata": {},
   "outputs": [],
   "source": [
    "# Create an instance of MongoClient\n",
    "mongo = MongoClient(port=27017)"
   ]
  },
  {
   "cell_type": "code",
   "execution_count": 3,
   "id": "7f9ececa",
   "metadata": {},
   "outputs": [
    {
     "name": "stdout",
     "output_type": "stream",
     "text": [
      "['admin', 'classDB', 'config', 'epa', 'fruitsDB', 'local', 'met', 'petsitly_marketing', 'uk_food']\n"
     ]
    }
   ],
   "source": [
    "# confirm that our new database was created\n",
    "print(mongo.list_database_names())"
   ]
  },
  {
   "cell_type": "code",
   "execution_count": 4,
   "id": "71e373c1",
   "metadata": {},
   "outputs": [],
   "source": [
    "# assign the uk_food database to a variable name\n",
    "ukfood_db = mongo['uk_food']"
   ]
  },
  {
   "cell_type": "code",
   "execution_count": 5,
   "id": "ef1b89ed",
   "metadata": {},
   "outputs": [],
   "source": [
    "# review the collections in our new database\n",
    "collection_names = ukfood_db.list_collection_names()"
   ]
  },
  {
   "cell_type": "code",
   "execution_count": 6,
   "id": "18ab463c",
   "metadata": {},
   "outputs": [
    {
     "name": "stdout",
     "output_type": "stream",
     "text": [
      "Collections in 'uk_food' database:\n",
      "-  establishments\n"
     ]
    }
   ],
   "source": [
    "# review the collections in our new database\n",
    "print(\"Collections in 'uk_food' database:\")\n",
    "for name in collection_names:\n",
    "    print(\"- \", name)"
   ]
  },
  {
   "cell_type": "code",
   "execution_count": 7,
   "id": "6a0d92df",
   "metadata": {},
   "outputs": [
    {
     "name": "stdout",
     "output_type": "stream",
     "text": [
      "Document from 'establishments' collection:\n"
     ]
    },
    {
     "data": {
      "text/plain": [
       "{'_id': ObjectId('65f1076fdda9597156f013ee'),\n",
       " 'FHRSID': 1043695,\n",
       " 'ChangesByServerID': 0,\n",
       " 'LocalAuthorityBusinessID': 'PI/000073616',\n",
       " 'BusinessName': 'The Pavilion',\n",
       " 'BusinessType': 'Restaurant/Cafe/Canteen',\n",
       " 'BusinessTypeID': 1,\n",
       " 'AddressLine1': 'East Cliff Pavilion',\n",
       " 'AddressLine2': 'Wear Bay Road',\n",
       " 'AddressLine3': 'Folkestone',\n",
       " 'AddressLine4': 'Kent',\n",
       " 'PostCode': 'CT19 6BL',\n",
       " 'Phone': '',\n",
       " 'RatingValue': 5,\n",
       " 'RatingKey': 'fhrs_5_en-gb',\n",
       " 'RatingDate': '2018-04-04T00:00:00',\n",
       " 'LocalAuthorityCode': '188',\n",
       " 'LocalAuthorityName': 'Folkestone and Hythe',\n",
       " 'LocalAuthorityWebSite': 'http://www.folkestone-hythe.gov.uk',\n",
       " 'LocalAuthorityEmailAddress': 'foodteam@folkestone-hythe.gov.uk',\n",
       " 'scores': {'Hygiene': 5, 'Structural': 5, 'ConfidenceInManagement': 5},\n",
       " 'SchemeType': 'FHRS',\n",
       " 'geocode': {'longitude': 1.195625, 'latitude': 51.083812},\n",
       " 'RightToReply': '',\n",
       " 'Distance': 4591.765489457773,\n",
       " 'NewRatingPending': False,\n",
       " 'meta': {'dataSource': None,\n",
       "  'extractDate': '0001-01-01T00:00:00',\n",
       "  'itemCount': 0,\n",
       "  'returncode': None,\n",
       "  'totalCount': 0,\n",
       "  'totalPages': 0,\n",
       "  'pageSize': 0,\n",
       "  'pageNumber': 0},\n",
       " 'links': [{'rel': 'self',\n",
       "   'href': 'https://api.ratings.food.gov.uk/establishments/1043695'}]}"
      ]
     },
     "execution_count": 7,
     "metadata": {},
     "output_type": "execute_result"
    }
   ],
   "source": [
    "# review a document in the establishments collection\n",
    "document = ukfood_db['establishments'].find_one()\n",
    "\n",
    "# Print the retrieved document\n",
    "print(\"Document from 'establishments' collection:\")\n",
    "document"
   ]
  },
  {
   "cell_type": "code",
   "execution_count": 8,
   "id": "11c9f11b",
   "metadata": {},
   "outputs": [],
   "source": [
    "# assign the collection to a variable\n",
    "establishments = ukfood_db['establishments']"
   ]
  },
  {
   "cell_type": "markdown",
   "id": "d5671434",
   "metadata": {},
   "source": [
    "## Part 2: Update the Database"
   ]
  },
  {
   "cell_type": "markdown",
   "id": "314bd884",
   "metadata": {},
   "source": [
    "1. An exciting new halal restaurant just opened in Greenwich, but hasn't been rated yet. The magazine has asked you to include it in your analysis. Add the following restaurant \"Penang Flavours\" to the database."
   ]
  },
  {
   "cell_type": "code",
   "execution_count": 9,
   "id": "c2da7648",
   "metadata": {},
   "outputs": [],
   "source": [
    "# Create a dictionary for the new restaurant data\n",
    "penang_flavours = {\n",
    "    \"BusinessName\":\"Penang Flavours\",\n",
    "    \"BusinessType\":\"Restaurant/Cafe/Canteen\",\n",
    "    \"BusinessTypeID\":\"\",\n",
    "    \"AddressLine1\":\"Penang Flavours\",\n",
    "    \"AddressLine2\":\"146A Plumstead Rd\",\n",
    "    \"AddressLine3\":\"London\",\n",
    "    \"AddressLine4\":\"\",\n",
    "    \"PostCode\":\"SE18 7DY\",\n",
    "    \"Phone\":\"\",\n",
    "    \"LocalAuthorityCode\":\"511\",\n",
    "    \"LocalAuthorityName\":\"Greenwich\",\n",
    "    \"LocalAuthorityWebSite\":\"http://www.royalgreenwich.gov.uk\",\n",
    "    \"LocalAuthorityEmailAddress\":\"health@royalgreenwich.gov.uk\",\n",
    "    \"scores\":{\n",
    "        \"Hygiene\":\"\",\n",
    "        \"Structural\":\"\",\n",
    "        \"ConfidenceInManagement\":\"\"\n",
    "    },\n",
    "    \"SchemeType\":\"FHRS\",\n",
    "    \"geocode\":{\n",
    "        \"longitude\":\"0.08384000\",\n",
    "        \"latitude\":\"51.49014200\"\n",
    "    },\n",
    "    \"RightToReply\":\"\",\n",
    "    \"Distance\":4623.9723280747176,\n",
    "    \"NewRatingPending\":True\n",
    "}"
   ]
  },
  {
   "cell_type": "code",
   "execution_count": 10,
   "id": "a6e5cece",
   "metadata": {},
   "outputs": [],
   "source": [
    "# Insert the new restaurant into the collection\n",
    "insert = establishments.insert_one(penang_flavours)"
   ]
  },
  {
   "cell_type": "code",
   "execution_count": 11,
   "id": "63bb10f9",
   "metadata": {},
   "outputs": [
    {
     "name": "stdout",
     "output_type": "stream",
     "text": [
      "New restaurant found in the collection:\n",
      "{'_id': ObjectId('65f10a1d116b21c8adb9db65'), 'BusinessName': 'Penang Flavours', 'BusinessType': 'Restaurant/Cafe/Canteen', 'BusinessTypeID': 1, 'AddressLine1': 'Penang Flavours', 'AddressLine2': '146A Plumstead Rd', 'AddressLine3': 'London', 'AddressLine4': '', 'PostCode': 'SE18 7DY', 'Phone': '', 'LocalAuthorityCode': '511', 'LocalAuthorityName': 'Greenwich', 'LocalAuthorityWebSite': 'http://www.royalgreenwich.gov.uk', 'LocalAuthorityEmailAddress': 'health@royalgreenwich.gov.uk', 'scores': {'Hygiene': '', 'Structural': '', 'ConfidenceInManagement': ''}, 'SchemeType': 'FHRS', 'geocode': {'longitude': 0.08384, 'latitude': 51.490142}, 'RightToReply': '', 'Distance': 4623.972328074718, 'NewRatingPending': True}\n"
     ]
    }
   ],
   "source": [
    "# Check that the new restaurant was inserted\n",
    "new_restaurant = establishments.find_one({\"BusinessName\": \"Penang Flavours\"})\n",
    "\n",
    "if new_restaurant:\n",
    "    print(\"New restaurant found in the collection:\")\n",
    "    print(new_restaurant)\n",
    "else:\n",
    "    print(\"New restaurant not found in the collection.\")"
   ]
  },
  {
   "cell_type": "markdown",
   "id": "0ef4395a",
   "metadata": {},
   "source": [
    "2. Find the BusinessTypeID for \"Restaurant/Cafe/Canteen\" and return only the `BusinessTypeID` and `BusinessType` fields."
   ]
  },
  {
   "cell_type": "code",
   "execution_count": 12,
   "id": "93c63829",
   "metadata": {},
   "outputs": [
    {
     "name": "stdout",
     "output_type": "stream",
     "text": [
      "BusinessTypeID for 'Restaurant/Cafe/Canteen':\n",
      "{'BusinessType': 'Restaurant/Cafe/Canteen', 'BusinessTypeID': 1}\n"
     ]
    }
   ],
   "source": [
    "# Find the BusinessTypeID for \"Restaurant/Cafe/Canteen\" and return only the BusinessTypeID and BusinessType fields\n",
    "query = {\n",
    "    \"BusinessType\": \"Restaurant/Cafe/Canteen\"\n",
    "}\n",
    "\n",
    "projection = {\n",
    "    \"_id\": 0,\n",
    "    \"BusinessTypeID\": 1,\n",
    "    \"BusinessType\": 1\n",
    "}\n",
    "\n",
    "result = establishments.find_one(query, projection)\n",
    "\n",
    "if result:\n",
    "    print(\"BusinessTypeID for 'Restaurant/Cafe/Canteen':\")\n",
    "    print(result)\n",
    "else:\n",
    "    print(\"No matching record found.\")"
   ]
  },
  {
   "cell_type": "markdown",
   "id": "4e570caf",
   "metadata": {},
   "source": [
    "3. Update the new restaurant with the `BusinessTypeID` you found."
   ]
  },
  {
   "cell_type": "code",
   "execution_count": 13,
   "id": "7f599f3d",
   "metadata": {},
   "outputs": [],
   "source": [
    "# Update the new restaurant with the correct BusinessTypeID\n",
    "filter_query = {\n",
    "    \"BusinessName\": \"Penang Flavours\"\n",
    "}\n",
    "\n",
    "update_query = {\n",
    "    \"$set\": {\n",
    "        \"BusinessTypeID\": 1\n",
    "    }\n",
    "}\n"
   ]
  },
  {
   "cell_type": "code",
   "execution_count": 14,
   "id": "a6ad16f7",
   "metadata": {},
   "outputs": [
    {
     "name": "stdout",
     "output_type": "stream",
     "text": [
      "No changes were made.\n"
     ]
    }
   ],
   "source": [
    "# Confirm that the new restaurant was updated\n",
    "update_result = establishments.update_one(filter_query, update_query)\n",
    "\n",
    "if update_result.modified_count > 0:\n",
    "    print(\"New restaurant updated successfully.\")\n",
    "else:\n",
    "    print(\"No changes were made.\")"
   ]
  },
  {
   "cell_type": "markdown",
   "id": "67281254",
   "metadata": {},
   "source": [
    "4. The magazine is not interested in any establishments in Dover, so check how many documents contain the Dover Local Authority. Then, remove any establishments within the Dover Local Authority from the database, and check the number of documents to ensure they were deleted."
   ]
  },
  {
   "cell_type": "code",
   "execution_count": 15,
   "id": "768474a6",
   "metadata": {},
   "outputs": [
    {
     "name": "stdout",
     "output_type": "stream",
     "text": [
      "Number of documents with LocalAuthorityName as 'Dover': 0\n"
     ]
    }
   ],
   "source": [
    "# Find how many documents have LocalAuthorityName as \"Dover\"\n",
    "query = {\n",
    "    \"LocalAuthorityName\": \"Dover\"\n",
    "}\n",
    "\n",
    "count = establishments.count_documents(query)\n",
    "print(\"Number of documents with LocalAuthorityName as 'Dover':\", count)"
   ]
  },
  {
   "cell_type": "code",
   "execution_count": 16,
   "id": "a11d5f1b",
   "metadata": {},
   "outputs": [],
   "source": [
    "# Delete all documents where LocalAuthorityName is \"Dover\"\n",
    "filter_query = {\n",
    "    \"LocalAuthorityName\": \"Dover\"\n",
    "}\n",
    "\n",
    "delete_result = establishments.delete_many(filter_query)"
   ]
  },
  {
   "cell_type": "code",
   "execution_count": 17,
   "id": "2a51aba0",
   "metadata": {},
   "outputs": [
    {
     "name": "stdout",
     "output_type": "stream",
     "text": [
      "No documents with LocalAuthorityName as 'Dover' found.\n"
     ]
    }
   ],
   "source": [
    "# Check if any remaining documents include Dover\n",
    "remaining_doc_query = {\n",
    "    \"LocalAuthorityName\": \"Dover\"\n",
    "}\n",
    "\n",
    "remaining_doc = establishments.find_one(remaining_doc_query)\n",
    "if remaining_doc:\n",
    "    print(\"There are documents with LocalAuthorityName as 'Dover'.\")\n",
    "else:\n",
    "    print(\"No documents with LocalAuthorityName as 'Dover' found.\")"
   ]
  },
  {
   "cell_type": "code",
   "execution_count": 18,
   "id": "8c356f7b",
   "metadata": {},
   "outputs": [
    {
     "name": "stdout",
     "output_type": "stream",
     "text": [
      "At least one document remains in the collection.\n",
      "Example document:\n",
      "{'_id': ObjectId('65f1076fdda9597156f013ee'), 'FHRSID': 1043695, 'ChangesByServerID': 0, 'LocalAuthorityBusinessID': 'PI/000073616', 'BusinessName': 'The Pavilion', 'BusinessType': 'Restaurant/Cafe/Canteen', 'BusinessTypeID': 1, 'AddressLine1': 'East Cliff Pavilion', 'AddressLine2': 'Wear Bay Road', 'AddressLine3': 'Folkestone', 'AddressLine4': 'Kent', 'PostCode': 'CT19 6BL', 'Phone': '', 'RatingValue': 5, 'RatingKey': 'fhrs_5_en-gb', 'RatingDate': '2018-04-04T00:00:00', 'LocalAuthorityCode': '188', 'LocalAuthorityName': 'Folkestone and Hythe', 'LocalAuthorityWebSite': 'http://www.folkestone-hythe.gov.uk', 'LocalAuthorityEmailAddress': 'foodteam@folkestone-hythe.gov.uk', 'scores': {'Hygiene': 5, 'Structural': 5, 'ConfidenceInManagement': 5}, 'SchemeType': 'FHRS', 'geocode': {'longitude': 1.195625, 'latitude': 51.083812}, 'RightToReply': '', 'Distance': 4591.765489457773, 'NewRatingPending': False, 'meta': {'dataSource': None, 'extractDate': '0001-01-01T00:00:00', 'itemCount': 0, 'returncode': None, 'totalCount': 0, 'totalPages': 0, 'pageSize': 0, 'pageNumber': 0}, 'links': [{'rel': 'self', 'href': 'https://api.ratings.food.gov.uk/establishments/1043695'}]}\n"
     ]
    }
   ],
   "source": [
    "# Check that other documents remain with 'find_one'\n",
    "any_document = establishments.find_one()\n",
    "\n",
    "if any_document:\n",
    "    print(\"At least one document remains in the collection.\")\n",
    "    print(\"Example document:\")\n",
    "    print(any_document)\n",
    "else:\n",
    "    print(\"No documents remain in the collection.\")"
   ]
  },
  {
   "attachments": {},
   "cell_type": "markdown",
   "id": "e9f1662d",
   "metadata": {},
   "source": [
    "5. Some of the number values are stored as strings, when they should be stored as numbers."
   ]
  },
  {
   "attachments": {},
   "cell_type": "markdown",
   "id": "c46df2df",
   "metadata": {},
   "source": [
    "Use `update_many` to convert `latitude` and `longitude` to decimal numbers."
   ]
  },
  {
   "cell_type": "code",
   "execution_count": 19,
   "id": "fd4112ce",
   "metadata": {},
   "outputs": [
    {
     "name": "stdout",
     "output_type": "stream",
     "text": [
      "Data type changed from String to Decimal for longitude and latitude.\n"
     ]
    }
   ],
   "source": [
    "# Change the data type from String to Decimal for longitude and latitude\n",
    "filter_query = {}\n",
    "for document in establishments.find(filter_query):\n",
    "    longitude = float(document['geocode']['longitude'])\n",
    "    latitude = float(document['geocode']['latitude'])\n",
    "    \n",
    "    update_query = {\n",
    "        \"$set\": {\n",
    "            \"geocode.longitude\": longitude,\n",
    "            \"geocode.latitude\": latitude\n",
    "        }\n",
    "    }\n",
    "    \n",
    "\n",
    "    establishments.update_one({\"_id\": document[\"_id\"]}, update_query)\n",
    "\n",
    "print(\"Data type changed from String to Decimal for longitude and latitude.\")"
   ]
  },
  {
   "attachments": {},
   "cell_type": "markdown",
   "id": "142e319c",
   "metadata": {},
   "source": [
    "Use `update_many` to convert `RatingValue` to integer numbers."
   ]
  },
  {
   "cell_type": "code",
   "execution_count": 20,
   "id": "04430a5b",
   "metadata": {},
   "outputs": [
    {
     "data": {
      "text/plain": [
       "<pymongo.results.UpdateResult at 0x1aeb62d4080>"
      ]
     },
     "execution_count": 20,
     "metadata": {},
     "output_type": "execute_result"
    }
   ],
   "source": [
    "# Set non 1-5 Rating Values to Null\n",
    "non_ratings = [\"AwaitingInspection\", \"Awaiting Inspection\", \"AwaitingPublication\", \"Pass\", \"Exempt\"]\n",
    "establishments.update_many({\"RatingValue\": {\"$in\": non_ratings}}, [ {'$set':{ \"RatingValue\" : None}} ])"
   ]
  },
  {
   "cell_type": "code",
   "execution_count": 21,
   "id": "d50e7140",
   "metadata": {},
   "outputs": [
    {
     "name": "stdout",
     "output_type": "stream",
     "text": [
      "Data type changed from String to Integer for RatingValue.\n"
     ]
    }
   ],
   "source": [
    "# Change the data type from String to Integer for RatingValue\n",
    "for document in establishments.find(filter_query):\n",
    "    if 'RatingValue' in document:\n",
    "        if document['RatingValue'] is not None:\n",
    "            new_rating_value = int(document['RatingValue'])\n",
    "            \n",
    "            update_query = {\n",
    "                \"$set\": {\n",
    "                    \"RatingValue\": new_rating_value\n",
    "                }\n",
    "            }\n",
    "            \n",
    "            establishments.update_one({\"_id\": document[\"_id\"]}, update_query)\n",
    "\n",
    "print(\"Data type changed from String to Integer for RatingValue.\")"
   ]
  },
  {
   "cell_type": "code",
   "execution_count": 22,
   "id": "0deacaf9",
   "metadata": {},
   "outputs": [
    {
     "name": "stdout",
     "output_type": "stream",
     "text": [
      "Data type of 'longitude': <class 'float'>\n",
      "Data type of 'latitude': <class 'float'>\n",
      "Data type of 'RatingValue': <class 'int'>\n"
     ]
    }
   ],
   "source": [
    "# Check that the coordinates and rating value are now numbers\n",
    "sample_document = establishments.find_one()\n",
    "\n",
    "# Check the data types of the coordinates and rating value\n",
    "if sample_document:\n",
    "    longitude_type = type(sample_document['geocode']['longitude'])\n",
    "    latitude_type = type(sample_document['geocode']['latitude'])\n",
    "    rating_value_type = type(sample_document.get('RatingValue'))\n",
    "\n",
    "    print(\"Data type of 'longitude':\", longitude_type)\n",
    "    print(\"Data type of 'latitude':\", latitude_type)\n",
    "    print(\"Data type of 'RatingValue':\", rating_value_type)\n",
    "else:\n",
    "    print(\"No document found in the collection.\")"
   ]
  },
  {
   "cell_type": "code",
   "execution_count": null,
   "id": "07b490d2",
   "metadata": {},
   "outputs": [],
   "source": []
  }
 ],
 "metadata": {
  "kernelspec": {
   "display_name": "Python 3 (ipykernel)",
   "language": "python",
   "name": "python3"
  },
  "language_info": {
   "codemirror_mode": {
    "name": "ipython",
    "version": 3
   },
   "file_extension": ".py",
   "mimetype": "text/x-python",
   "name": "python",
   "nbconvert_exporter": "python",
   "pygments_lexer": "ipython3",
   "version": "3.11.5"
  }
 },
 "nbformat": 4,
 "nbformat_minor": 5
}
